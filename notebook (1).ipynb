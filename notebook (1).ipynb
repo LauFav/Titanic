﻿{
 "metadata": {
  "kernelspec": {
   "name": "python"
  },
  "language_info": {
   "name": "python",
   "version": "3.5.1"
  }
 },
 "nbformat": 4,
 "nbformat_minor": 0,
 "cells": [
  {
   "cell_type": "code",
   "source": "# Imports\n\n# pandas\nimport pandas as pd\nfrom pandas import Series,DataFrame\n\n# numpy, matplotlib, seaborn\nimport numpy as np\nimport matplotlib.pyplot as plt\nimport seaborn as sns\nsns.set_style('whitegrid')\n%matplotlib inline\n\n# machine learning\nfrom sklearn.linear_model import LogisticRegression\nfrom sklearn.svm import SVC, LinearSVC\nfrom sklearn.ensemble import RandomForestClassifier\nfrom sklearn.neighbors import KNeighborsClassifier\nfrom sklearn.naive_bayes import GaussianNB\nfrom sklearn import tree, linear_model",
   "execution_count": 1,
   "outputs": [],
   "metadata": {}
  },
  {
   "cell_type": "code",
   "source": "# get titanic & test csv files as a DataFrame\ntitanic_df = pd.read_csv(\"../input/train.csv\", dtype={\"Age\": np.float64}, )\ntest_df    = pd.read_csv(\"../input/test.csv\", dtype={\"Age\": np.float64}, )\n\n# preview the data\ntitanic_df.head()",
   "execution_count": 45,
   "outputs": [],
   "metadata": {}
  },
  {
   "cell_type": "code",
   "source": "titanic_df['Age'].hist()",
   "execution_count": 43,
   "outputs": [],
   "metadata": {}
  },
  {
   "cell_type": "code",
   "source": "\nfor i in range(0,9):\n    titanic_df.loc[titanic_df['Age'].map(lambda x:(x<(10*i+10)) & (x>=(10*i))),'Age']=i\ntitanic_df['Age'].hist()",
   "execution_count": 49,
   "outputs": [],
   "metadata": {}
  },
  {
   "cell_type": "code",
   "source": "####Split variable Nom####\nNameVar=titanic_df['Name']\nNameVar2=test_df['Name']\nsplit1= lambda x: x.split(\", \")\nsplit2= lambda x: x.split(\". \")\ni=0\nfor l in NameVar:\n    a=split1(l)\n    b=split2(a[1])\n    titanic_df.loc[i,'Name']=b[0]\n    i=i+1\ni=0\nfor l in NameVar2:\n    a=split1(l)\n    b=split2(a[1])\n    test_df.loc[i,'Name']=b[0]\n    i=i+1\ntitanic_df.groupby('Name') ['Name'].count()\nTitles=['Master','Miss','Mr','Mrs'] \n\ntitanic_df.loc[titanic_df['Name'].map(lambda x: x not in Titles),'Name']=4\ntitanic_df.loc[titanic_df['Name']==\"Mr\",'Name']=0\ntitanic_df.loc[titanic_df['Name']==\"Mrs\",'Name']=1\ntitanic_df.loc[titanic_df['Name']==\"Miss\",'Name']=2\ntitanic_df.loc[titanic_df['Name']==\"Master\",'Name']=3\ntest_df.loc[test_df['Name'].map(lambda x: x not in Titles),'Name']=4\ntest_df.loc[test_df['Name']==\"Mr\",'Name']=0\ntest_df.loc[test_df['Name']==\"Mrs\",'Name']=1\ntest_df.loc[test_df['Name']==\"Miss\",'Name']=2\ntest_df.loc[test_df['Name']==\"Master\",'Name']=3\n\n####Code SEX####\ntitanic_df['Sex']=(titanic_df['Sex']=='male')*1\ntest_df['Sex']=(test_df['Sex']=='male')*1\n###SibSP, Parch, Family####\ntitanic_df.loc[titanic_df['SibSp']>2,'SibSp']=3\ntitanic_df.loc[titanic_df['Parch']==2,'Parch']=1\ntitanic_df.loc[titanic_df['Parch']==3,'Parch']=1\ntitanic_df.loc[titanic_df['Parch']>3,'Parch']=2\ntitanic_df['Family']=titanic_df['SibSp']+titanic_df['Parch']\ntitanic_df.loc[titanic_df['Family']>0,'Family']=1\n\ntest_df.loc[test_df['SibSp']>2,'SibSp']=3\ntest_df.loc[test_df['Parch']==2,'Parch']=1\ntest_df.loc[test_df['Parch']==3,'Parch']=1\ntest_df.loc[test_df['Parch']>3,'Parch']=2\ntest_df['Family']=test_df['SibSp']+test_df['Parch']\ntest_df.loc[test_df['Family']>0,'Family']=1\n####Split Cabine######\nCabine=titanic_df['Cabin']\ni=0\nfor l in Cabine:\n    if str(l)=='nan':\n        titanic_df.loc[i,'Cabin']=\"No\"\n    else:\n        if len(str(l))==1:\n            titanic_df.loc[i,'Cabin']=l\n        else:\n            titanic_df.loc[i,'Cabin']=(str(l))[0]\n    i=i+1\nCabine=test_df['Cabin']\ni=0\nfor l in Cabine:\n    if str(l)=='nan':\n        test_df.loc[i,'Cabin']=\"No\"\n    else:\n        if len(str(l))==1:\n            test_df.loc[i,'Cabin']=l\n        else:\n            test_df.loc[i,'Cabin']=(str(l))[0]\n    i=i+1\n\n###Split Fare - Chercher meilleur split en 3 parties en maximisant la variance Inter groupes\ns1=5\ns2=20\ntitanic_df.loc[titanic_df['Fare']<s1,'CFare']=0     \ntitanic_df.loc[((titanic_df['Fare']<s2) & (titanic_df['Fare']>=s1)),'CFare']=1 \ntitanic_df.loc[titanic_df['Fare']>=s2,'CFare']=2\ndifExp=np.square(titanic_df.groupby('CFare')['Survived'].mean()-titanic_df['Survived'].mean())\nvInter=sum(titanic_df.groupby('CFare')['Survived'].count()*difExp)/titanic_df['Survived'].count()\nbest=vInter\nbestFare=[5,20]\nfor l1 in range(0,50):\n    for l2 in range(l1,40):\n        s1=5+l1*2\n        s2=10+l2*2\n        titanic_df.loc[titanic_df['Fare']<s1,'CFare']=0     \n        titanic_df.loc[((titanic_df['Fare']<s2) & (titanic_df['Fare']>=s1)),'CFare']=1 \n        titanic_df.loc[titanic_df['Fare']>=s2,'CFare']=2\n        difExp=np.square(titanic_df.groupby('CFare')['Survived'].mean()-titanic_df['Survived'].mean())\n        vInter=sum(titanic_df.groupby('CFare')['Survived'].count()*difExp)/titanic_df['Survived'].count()\n        if vInter>best:\n            best=vInter\n            bestFare=[s1,s2]\ns1=bestFare[0]\ns2=bestFare[1]\ntitanic_df.loc[titanic_df['Fare']<s1,'CFare']=0     \ntitanic_df.loc[((titanic_df['Fare']<s2) & (titanic_df['Fare']>=s1)),'CFare']=1 \ntitanic_df.loc[titanic_df['Fare']>=s2,'CFare']=2\ntitanic_df['Fare']=titanic_df['CFare']\ntitanic_df.drop('CFare',axis=1,inplace=True)\n\ntest_df.loc[test_df['Fare']<s1,'Fare']=0     \ntest_df.loc[((test_df['Fare']<s2) & (test_df['Fare']>=s1)),'Fare']=1 \ntest_df.loc[test_df['Fare']>=s2,'Fare']=2\ntest_df['Fare'] = titanic_df['Fare'].fillna(\"0\")\n###Drop Ticket, PassenID\ntitanic_df.drop('Ticket',axis=1,inplace=True)\ntitanic_df.drop('PassengerId',axis=1,inplace=True)\ntest_df.drop('Ticket',axis=1,inplace=True)\ntest_df.drop('PassengerId',axis=1,inplace=True)\n\n####Imputer Embarked avec la median\ntitanic_df['Embarked'] = titanic_df['Embarked'].fillna(\"S\")\ntitanic_df.loc[titanic_df['Embarked']==\"S\",'Embarked']=0\ntitanic_df.loc[titanic_df['Embarked']==\"C\",'Embarked']=1\ntitanic_df.loc[titanic_df['Embarked']==\"Q\",'Embarked']=2\ntest_df.loc[test_df['Embarked']==\"S\",'Embarked']=0\ntest_df.loc[test_df['Embarked']==\"C\",'Embarked']=1\ntest_df.loc[test_df['Embarked']==\"Q\",'Embarked']=2\n\n#####Split cabin\ntitanic_df.loc[titanic_df['Cabin']==\"B\",'Cabin']=0\ntitanic_df.loc[titanic_df['Cabin']==\"C\",'Cabin']=1\ntitanic_df.loc[titanic_df['Cabin']==\"D\",'Cabin']=2\ntitanic_df.loc[titanic_df['Cabin']==\"E\",'Cabin']=3\ncab=[\"B\",\"C\",\"D\",\"E\"]\ntitanic_df.loc[titanic_df['Cabin'].map(lambda x: x not in cab),'Cabin']=4\n\ntest_df.loc[test_df['Cabin']==\"B\",'Cabin']=0\ntest_df.loc[test_df['Cabin']==\"C\",'Cabin']=1\ntest_df.loc[test_df['Cabin']==\"D\",'Cabin']=2\ntest_df.loc[test_df['Cabin']==\"E\",'Cabin']=3\ntest_df.loc[test_df['Cabin'].map(lambda x: x not in cab),'Cabin']=4",
   "execution_count": 46,
   "outputs": [],
   "metadata": {}
  },
  {
   "cell_type": "code",
   "source": "####Dummy names\n#Dum1=pd.get_dummies(titanic_df['Name'])\n#Dum2=pd.get_dummies(test_df['Name'])\n#titanic_df.drop('Name',axis=1,inplace=True)\n#test_df.drop('Name',axis=1,inplace=True)\n#titanic_df=pd.concat([titanic_df,Dum1],axis=1)\n#test_df=pd.concat([test_df,Dum2],axis=1)\n\n\n###Dummy fare\n#Dum1=pd.get_dummies(titanic_df['Fare'])\n#Dum2=pd.get_dummies(test_df['Fare'])\n#titanic_df.drop('Fare',axis=1,inplace=True)\n#test_df.drop('Fare',axis=1,inplace=True)\n#titanic_df=pd.concat([titanic_df,Dum1],axis=1)\n#test_df=pd.concat([test_df,Dum2],axis=1)\n\n###Dummy SibSp\n#Dum1=pd.get_dummies(titanic_df['SibSp'])\n#Dum2=pd.get_dummies(test_df['SibSp'])\n#titanic_df.drop('SibSp',axis=1,inplace=True)\n#test_df.drop('SibSp',axis=1,inplace=True)\n#titanic_df=pd.concat([titanic_df,Dum1],axis=1)\n#test_df=pd.concat([test_df,Dum2],axis=1)\n\n###Dummy Parch\n#Dum1=pd.get_dummies(titanic_df['Parch'])\n#Dum2=pd.get_dummies(test_df['Parch'])\n#titanic_df.drop('Parch',axis=1,inplace=True)\n#test_df.drop('Parch',axis=1,inplace=True)\n#titanic_df=pd.concat([titanic_df,Dum1],axis=1)\n#test_df=pd.concat([test_df,Dum2],axis=1)\n\n###Dummy Embarked\n#Dum1=pd.get_dummies(titanic_df['Embarked'])\n#Dum2=pd.get_dummies(test_df['Embarked'])\n#titanic_df.drop('Embarked',axis=1,inplace=True)\n#test_df.drop('Embarked',axis=1,inplace=True)\n#titanic_df=pd.concat([titanic_df,Dum1],axis=1)\n#test_df=pd.concat([test_df,Dum2],axis=1)",
   "execution_count": 35,
   "outputs": [],
   "metadata": {}
  },
  {
   "cell_type": "code",
   "source": "####Age Imputation\nX_train=(titanic_df.drop(['Age','Survived'],axis=1)).loc[np.logical_not(titanic_df['Age'].map(np.isnan)),:]\nY_train=titanic_df.loc[np.logical_not(titanic_df['Age'].map(np.isnan)),'Age']\nregr = linear_model.LinearRegression()\nregr.fit(X_train,Y_train)\nX_train2=(titanic_df.drop('Survived',axis=1))\nX_test=test_df\nX_train2.loc[titanic_df['Age'].map(np.isnan),'Age']=regr.predict((titanic_df.drop(['Age','Survived'],axis=1)).loc[titanic_df['Age'].map(np.isnan),:])\nX_test.loc[test_df['Age'].map(np.isnan),'Age']=regr.predict((test_df.drop('Age',axis=1)).loc[test_df['Age'].map(np.isnan),:])\nX_train=X_train2\nY_train=titanic_df['Survived']",
   "execution_count": 5,
   "outputs": [],
   "metadata": {}
  },
  {
   "cell_type": "code",
   "source": "X_train=(titanic_df.drop('Survived',axis=1)).loc[np.logical_not(titanic_df['Age'].map(np.isnan)),:]\nY_train=titanic_df.loc[np.logical_not(titanic_df['Age'].map(np.isnan)),'Survived']\n",
   "execution_count": 6,
   "outputs": [],
   "metadata": {}
  },
  {
   "cell_type": "code",
   "source": "# Logistic Regression\n\nlogreg = LogisticRegression()\n\nlogreg.fit(X_train, Y_train)\n\n#Y_pred = logreg.predict(X_test)\n\nlogreg.score(X_train, Y_train)",
   "execution_count": 7,
   "outputs": [],
   "metadata": {}
  },
  {
   "cell_type": "code",
   "source": "# Support Vector Machines\n\nsvc = SVC()\n\nsvc.fit(X_train, Y_train)\n\n# Y_pred = svc.predict(X_test)\n\nsvc.score(X_train, Y_train)\n",
   "execution_count": 10,
   "outputs": [],
   "metadata": {}
  },
  {
   "cell_type": "code",
   "source": "clf = tree.DecisionTreeClassifier()\nclf = clf.fit(X_train, Y_train)\nclf.score(X_train,Y_train)\n#Y_pred=clf.predict(X_test)",
   "execution_count": 11,
   "outputs": [],
   "metadata": {}
  },
  {
   "cell_type": "code",
   "source": "#Random Forests\n\nrandom_forest = RandomForestClassifier(n_estimators=100)\n\nrandom_forest.fit(X_train,Y_train)\nrandom_forest.score(X_train,Y_train)\nY_pred=random_forest.predict(X_test)",
   "execution_count": 15,
   "outputs": [],
   "metadata": {}
  },
  {
   "cell_type": "code",
   "source": "",
   "execution_count": null,
   "outputs": [],
   "metadata": {}
  },
  {
   "cell_type": "code",
   "source": "len(Y_pred)",
   "execution_count": 52,
   "outputs": [],
   "metadata": {}
  },
  {
   "cell_type": "code",
   "source": "knn = KNeighborsClassifier(n_neighbors = 1)\n\nknn.fit(X_train, Y_train)\n\n#Y_pred = knn.predict(X_test)\n\nknn.score(X_train, Y_train)",
   "execution_count": 14,
   "outputs": [],
   "metadata": {}
  },
  {
   "cell_type": "code",
   "source": "test_df    = pd.read_csv(\"../input/test.csv\", dtype={\"Age\": np.float64}, )\nsubmission = pd.DataFrame({\n        \"PassengerId\": test_df['PassengerId'],\n        \"Survived\": Y_pred\n    })\nsubmission.to_csv('titanic.csv', index=False)",
   "execution_count": 16,
   "outputs": [],
   "metadata": {}
  }
 ]
}